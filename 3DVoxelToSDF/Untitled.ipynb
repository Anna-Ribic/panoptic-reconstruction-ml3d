{
 "cells": [
  {
   "cell_type": "code",
   "execution_count": 1,
   "id": "d9562da5-dd19-4dac-992e-a40986b7447b",
   "metadata": {},
   "outputs": [
    {
     "name": "stdout",
     "output_type": "stream",
     "text": [
      "VoxelToSDFUNet(\n",
      "  (encoder): Sequential(\n",
      "    (0): Conv3d(1, 32, kernel_size=(3, 3, 3), stride=(1, 1, 1), padding=(1, 1, 1))\n",
      "    (1): ReLU(inplace=True)\n",
      "    (2): Conv3d(32, 64, kernel_size=(3, 3, 3), stride=(1, 1, 1), padding=(1, 1, 1))\n",
      "    (3): ReLU(inplace=True)\n",
      "    (4): MaxPool3d(kernel_size=2, stride=2, padding=0, dilation=1, ceil_mode=False)\n",
      "  )\n",
      "  (latent): Sequential(\n",
      "    (0): Conv3d(64, 128, kernel_size=(3, 3, 3), stride=(1, 1, 1), padding=(1, 1, 1))\n",
      "    (1): ReLU(inplace=True)\n",
      "    (2): Conv3d(128, 128, kernel_size=(3, 3, 3), stride=(1, 1, 1), padding=(1, 1, 1))\n",
      "    (3): ReLU(inplace=True)\n",
      "    (4): MaxPool3d(kernel_size=2, stride=2, padding=0, dilation=1, ceil_mode=False)\n",
      "  )\n",
      "  (decoder): Sequential(\n",
      "    (0): ConvTranspose3d(128, 64, kernel_size=(2, 2, 2), stride=(2, 2, 2))\n",
      "    (1): ReLU(inplace=True)\n",
      "    (2): Conv3d(64, 32, kernel_size=(3, 3, 3), stride=(1, 1, 1), padding=(1, 1, 1))\n",
      "    (3): ReLU(inplace=True)\n",
      "    (4): ConvTranspose3d(32, 1, kernel_size=(2, 2, 2), stride=(2, 2, 2))\n",
      "  )\n",
      ")\n"
     ]
    }
   ],
   "source": [
    "import torch\n",
    "import torch.nn as nn\n",
    "\n",
    "class VoxelToSDFUNet(nn.Module):\n",
    "    def __init__(self):\n",
    "        super(VoxelToSDFUNet, self).__init__()\n",
    "\n",
    "        # Encoder\n",
    "        self.encoder = nn.Sequential(\n",
    "            nn.Conv3d(1, 32, kernel_size=3, padding=1),\n",
    "            nn.ReLU(inplace=True),\n",
    "            nn.Conv3d(32, 64, kernel_size=3, padding=1),\n",
    "            nn.ReLU(inplace=True),\n",
    "            nn.MaxPool3d(kernel_size=2, stride=2)\n",
    "        )\n",
    "\n",
    "        # Latent\n",
    "        self.latent = nn.Sequential(\n",
    "            nn.Conv3d(64, 128, kernel_size=3, padding=1),\n",
    "            nn.ReLU(inplace=True),\n",
    "            nn.Conv3d(128, 128, kernel_size=3, padding=1),\n",
    "            nn.ReLU(inplace=True),\n",
    "            nn.MaxPool3d(kernel_size=2, stride=2)\n",
    "        )\n",
    "\n",
    "        # Decoder\n",
    "        self.decoder = nn.Sequential(\n",
    "            nn.ConvTranspose3d(128, 64, kernel_size=2, stride=2),\n",
    "            nn.ReLU(inplace=True),\n",
    "            nn.Conv3d(64, 32, kernel_size=3, padding=1),\n",
    "            nn.ReLU(inplace=True),\n",
    "            nn.ConvTranspose3d(32, 1, kernel_size=2, stride=2)\n",
    "        )\n",
    "\n",
    "    def forward(self, x):\n",
    "        # Encoder\n",
    "        x = self.encoder(x)\n",
    "        # Latent\n",
    "        x = self.latent(x)\n",
    "        # Decoder with skip connections\n",
    "        x = self.decoder(x)\n",
    "\n",
    "        return x\n",
    "\n",
    "# Instantiate the model\n",
    "model = VoxelToSDFUNet()\n",
    "\n",
    "# Print the model architecture\n",
    "print(model)\n"
   ]
  },
  {
   "cell_type": "code",
   "execution_count": 2,
   "id": "33ac49c1-038c-4ba5-817d-8419e5e4e3e9",
   "metadata": {},
   "outputs": [
    {
     "name": "stdout",
     "output_type": "stream",
     "text": [
      "Untitled.ipynb\texample_sdf.npy  example_voxels.npy  exercise1\to.npy\n"
     ]
    }
   ],
   "source": [
    "!ls"
   ]
  },
  {
   "cell_type": "code",
   "execution_count": 3,
   "id": "8f859edd-3f17-4568-aa2b-f902a6dfdc0a",
   "metadata": {},
   "outputs": [],
   "source": [
    "import numpy as np\n",
    "\n",
    "voxel = torch.tensor(np.load(\"example_voxels.npy\"), dtype=torch.float)\n",
    "sdf = torch.tensor(np.load(\"example_sdf.npy\"), dtype=torch.float)"
   ]
  },
  {
   "cell_type": "code",
   "execution_count": 4,
   "id": "632ec075-ded7-4f36-9383-330133febec7",
   "metadata": {},
   "outputs": [
    {
     "data": {
      "text/plain": [
       "torch.Size([1, 1, 32, 32, 32])"
      ]
     },
     "execution_count": 4,
     "metadata": {},
     "output_type": "execute_result"
    }
   ],
   "source": [
    "sdf.unsqueeze(0).unsqueeze(0).shape"
   ]
  },
  {
   "cell_type": "code",
   "execution_count": 5,
   "id": "f630e1e9-dfb4-4f44-9952-30c29c0d2ac1",
   "metadata": {},
   "outputs": [
    {
     "data": {
      "text/plain": [
       "tensor(5400.)"
      ]
     },
     "execution_count": 5,
     "metadata": {},
     "output_type": "execute_result"
    }
   ],
   "source": [
    "voxel.sum()"
   ]
  },
  {
   "cell_type": "code",
   "execution_count": 6,
   "id": "076ad0b3-399c-476d-b9b4-4870735b27e9",
   "metadata": {},
   "outputs": [
    {
     "name": "stdout",
     "output_type": "stream",
     "text": [
      "Epoch [1/100], Loss: 0.16143792867660522\n",
      "Epoch [2/100], Loss: 0.1493491232395172\n",
      "Epoch [3/100], Loss: 0.14915072917938232\n",
      "Epoch [4/100], Loss: 0.1369166523218155\n",
      "Epoch [5/100], Loss: 0.13153508305549622\n",
      "Epoch [6/100], Loss: 0.11623180657625198\n",
      "Epoch [7/100], Loss: 0.10344547778367996\n",
      "Epoch [8/100], Loss: 0.09564467519521713\n",
      "Epoch [9/100], Loss: 0.08972221612930298\n",
      "Epoch [10/100], Loss: 0.09096783399581909\n",
      "Epoch [11/100], Loss: 0.08692220598459244\n",
      "Epoch [12/100], Loss: 0.08332204073667526\n",
      "Epoch [13/100], Loss: 0.07950714230537415\n",
      "Epoch [14/100], Loss: 0.07458368688821793\n",
      "Epoch [15/100], Loss: 0.07345329225063324\n",
      "Epoch [16/100], Loss: 0.07160426676273346\n",
      "Epoch [17/100], Loss: 0.07149144262075424\n",
      "Epoch [18/100], Loss: 0.06811050325632095\n",
      "Epoch [19/100], Loss: 0.06628699600696564\n",
      "Epoch [20/100], Loss: 0.06268570572137833\n",
      "Epoch [21/100], Loss: 0.061969030648469925\n",
      "Epoch [22/100], Loss: 0.05938291922211647\n",
      "Epoch [23/100], Loss: 0.05836907774209976\n",
      "Epoch [24/100], Loss: 0.057421013712882996\n",
      "Epoch [25/100], Loss: 0.05489851534366608\n",
      "Epoch [26/100], Loss: 0.053843121975660324\n",
      "Epoch [27/100], Loss: 0.05240732431411743\n",
      "Epoch [28/100], Loss: 0.050492361187934875\n",
      "Epoch [29/100], Loss: 0.04968547821044922\n",
      "Epoch [30/100], Loss: 0.04857349395751953\n",
      "Epoch [31/100], Loss: 0.04709351807832718\n",
      "Epoch [32/100], Loss: 0.04607111215591431\n",
      "Epoch [33/100], Loss: 0.04501748085021973\n",
      "Epoch [34/100], Loss: 0.04361994192004204\n",
      "Epoch [35/100], Loss: 0.04215187951922417\n",
      "Epoch [36/100], Loss: 0.04106394946575165\n",
      "Epoch [37/100], Loss: 0.040277108550071716\n",
      "Epoch [38/100], Loss: 0.039429888129234314\n",
      "Epoch [39/100], Loss: 0.03868137300014496\n",
      "Epoch [40/100], Loss: 0.03699913248419762\n",
      "Epoch [41/100], Loss: 0.0358043909072876\n",
      "Epoch [42/100], Loss: 0.035183973610401154\n",
      "Epoch [43/100], Loss: 0.0339449979364872\n",
      "Epoch [44/100], Loss: 0.03273417055606842\n",
      "Epoch [45/100], Loss: 0.03197415918111801\n",
      "Epoch [46/100], Loss: 0.031122121959924698\n",
      "Epoch [47/100], Loss: 0.03015456721186638\n",
      "Epoch [48/100], Loss: 0.029121384024620056\n",
      "Epoch [49/100], Loss: 0.028366191312670708\n",
      "Epoch [50/100], Loss: 0.02764325961470604\n",
      "Epoch [51/100], Loss: 0.026700448244810104\n",
      "Epoch [52/100], Loss: 0.025908004492521286\n",
      "Epoch [53/100], Loss: 0.025296799838542938\n",
      "Epoch [54/100], Loss: 0.024632491171360016\n",
      "Epoch [55/100], Loss: 0.023937134072184563\n",
      "Epoch [56/100], Loss: 0.02317872643470764\n",
      "Epoch [57/100], Loss: 0.02250567451119423\n",
      "Epoch [58/100], Loss: 0.021909605711698532\n",
      "Epoch [59/100], Loss: 0.021366562694311142\n",
      "Epoch [60/100], Loss: 0.02089831233024597\n",
      "Epoch [61/100], Loss: 0.020468134433031082\n",
      "Epoch [62/100], Loss: 0.02023901976644993\n",
      "Epoch [63/100], Loss: 0.019435841590166092\n",
      "Epoch [64/100], Loss: 0.01861233450472355\n",
      "Epoch [65/100], Loss: 0.017840854823589325\n",
      "Epoch [66/100], Loss: 0.017474977299571037\n",
      "Epoch [67/100], Loss: 0.017197897657752037\n",
      "Epoch [68/100], Loss: 0.016410324722528458\n",
      "Epoch [69/100], Loss: 0.01574152708053589\n",
      "Epoch [70/100], Loss: 0.015241057612001896\n",
      "Epoch [71/100], Loss: 0.014265204779803753\n",
      "Epoch [72/100], Loss: 0.012380434200167656\n",
      "Epoch [73/100], Loss: 0.009378884918987751\n",
      "Epoch [74/100], Loss: 0.010004720650613308\n",
      "Epoch [75/100], Loss: 0.009710452519357204\n",
      "Epoch [76/100], Loss: 0.007715790532529354\n",
      "Epoch [77/100], Loss: 0.006990902125835419\n",
      "Epoch [78/100], Loss: 0.007258964702486992\n",
      "Epoch [79/100], Loss: 0.0072139957919716835\n",
      "Epoch [80/100], Loss: 0.0064965286292135715\n",
      "Epoch [81/100], Loss: 0.005573965143412352\n",
      "Epoch [82/100], Loss: 0.005187952890992165\n",
      "Epoch [83/100], Loss: 0.005169225856661797\n",
      "Epoch [84/100], Loss: 0.0048250965774059296\n",
      "Epoch [85/100], Loss: 0.004255358129739761\n",
      "Epoch [86/100], Loss: 0.003838078584522009\n",
      "Epoch [87/100], Loss: 0.0035941877868026495\n",
      "Epoch [88/100], Loss: 0.003390111029148102\n",
      "Epoch [89/100], Loss: 0.0031226398423314095\n",
      "Epoch [90/100], Loss: 0.0028456489089876413\n",
      "Epoch [91/100], Loss: 0.002620783168822527\n",
      "Epoch [92/100], Loss: 0.0024491995573043823\n",
      "Epoch [93/100], Loss: 0.002242558402940631\n",
      "Epoch [94/100], Loss: 0.0020502000115811825\n",
      "Epoch [95/100], Loss: 0.0018689637072384357\n",
      "Epoch [96/100], Loss: 0.0017364536179229617\n",
      "Epoch [97/100], Loss: 0.0016177950892597437\n",
      "Epoch [98/100], Loss: 0.0015040251892060041\n",
      "Epoch [99/100], Loss: 0.001387969357892871\n",
      "Epoch [100/100], Loss: 0.0012878146953880787\n"
     ]
    }
   ],
   "source": [
    "import torch\n",
    "import torch.nn as nn\n",
    "import torch.optim as optim\n",
    "\n",
    "# Assume you have a single input voxel grid and its corresponding SDF as ground truth\n",
    "input_voxel_grid = voxel.unsqueeze(0).unsqueeze(0)\n",
    "ground_truth_sdf = sdf.unsqueeze(0).unsqueeze(0)\n",
    "\n",
    "# Instantiate the model\n",
    "model = VoxelToSDFUNet()\n",
    "\n",
    "# Loss function and optimizer\n",
    "criterion = nn.MSELoss()\n",
    "optimizer = optim.Adam(model.parameters(), lr=0.001)\n",
    "\n",
    "# Number of training epochs\n",
    "num_epochs = 100\n",
    "\n",
    "# Training loop\n",
    "for epoch in range(num_epochs):\n",
    "    # Forward pass\n",
    "    output_sdf = model(input_voxel_grid)\n",
    "    \n",
    "    loss = criterion(output_sdf, ground_truth_sdf)\n",
    "\n",
    "    # Backward pass and optimization\n",
    "    optimizer.zero_grad()\n",
    "    loss.backward()\n",
    "    optimizer.step()\n",
    "\n",
    "    # Print training statistics\n",
    "    print(f'Epoch [{epoch+1}/{num_epochs}], Loss: {loss.item()}')"
   ]
  },
  {
   "cell_type": "code",
   "execution_count": null,
   "id": "0de62eeb-4f3e-4ee6-888e-86e4b450dbf5",
   "metadata": {},
   "outputs": [],
   "source": [
    "overfit_sample = model(voxel.unsqueeze(0).unsqueeze(0))"
   ]
  },
  {
   "cell_type": "code",
   "execution_count": null,
   "id": "f7a2a831-0846-4b84-8521-bc7887139660",
   "metadata": {},
   "outputs": [],
   "source": [
    "overfit_sample = overfit_sample.detach().numpy()\n",
    "np.save('overfit_sample.npy', overfit_sample)"
   ]
  }
 ],
 "metadata": {
  "kernelspec": {
   "display_name": "Python 3 (ipykernel)",
   "language": "python",
   "name": "python3"
  },
  "language_info": {
   "codemirror_mode": {
    "name": "ipython",
    "version": 3
   },
   "file_extension": ".py",
   "mimetype": "text/x-python",
   "name": "python",
   "nbconvert_exporter": "python",
   "pygments_lexer": "ipython3",
   "version": "3.11.7"
  }
 },
 "nbformat": 4,
 "nbformat_minor": 5
}
